{
  "nbformat": 4,
  "nbformat_minor": 0,
  "metadata": {
    "colab": {
      "provenance": [],
      "include_colab_link": true
    },
    "kernelspec": {
      "name": "python3",
      "display_name": "Python 3"
    },
    "language_info": {
      "name": "python"
    }
  },
  "cells": [
    {
      "cell_type": "markdown",
      "metadata": {
        "id": "view-in-github",
        "colab_type": "text"
      },
      "source": [
        "<a href=\"https://colab.research.google.com/github/envirodatascience/final-project-wildfire/blob/main/Merged%20Draft.ipynb\" target=\"_parent\"><img src=\"https://colab.research.google.com/assets/colab-badge.svg\" alt=\"Open In Colab\"/></a>"
      ]
    },
    {
      "cell_type": "markdown",
      "source": [
        "# Wildfires in the United States"
      ],
      "metadata": {
        "id": "wTuNpXcSSrBh"
      }
    },
    {
      "cell_type": "markdown",
      "source": [
        "This project examines the landscape of wildfires in the US from 1984-2024. We aim to answer the following questions using data from the US Geological Service that monitors trends in burn severity over this time period:\n",
        "\n",
        "1) How has wildfire frequency changed over time in the US?\n",
        "\n",
        "2) How has wildfire severity changed over time in the US?\n",
        "\n",
        "3) Is prescribed burning an effective policy for mitigating fires?"
      ],
      "metadata": {
        "id": "rqCShYSlSxr8"
      }
    },
    {
      "cell_type": "markdown",
      "source": [
        "First We Prepare our Data"
      ],
      "metadata": {
        "id": "cDJ3XTkJCzi9"
      }
    },
    {
      "cell_type": "code",
      "execution_count": 1,
      "metadata": {
        "id": "9CIpNm9xuMs_"
      },
      "outputs": [],
      "source": [
        "# import standard packages\n",
        "import pandas as pd\n",
        "import numpy as np\n",
        "\n",
        "#import plotting packages\n",
        "import geopandas as gpd\n",
        "from plotnine import *\n",
        "import plotnine\n",
        "\n",
        "#import stats packages\n",
        "import scipy.stats as stats\n",
        "import statsmodels.api as sm\n",
        "\n",
        "#import animation packages\n",
        "import matplotlib.pyplot as plt\n",
        "import io\n",
        "import os\n",
        "from PIL import Image as PILImage\n",
        "from IPython.display import display, Image\n",
        "import imageio\n"
      ]
    },
    {
      "cell_type": "markdown",
      "source": [
        "# Upload Data\n",
        "We are pulling data from The Monitoring Trends in Burn Severity (MTBS) Program provided by the USGS and USDA Forest Service\n",
        "\n",
        "The data provides info regarding all currently inventoried fires occurring between calendar year 1984 and 2024 for CONUS, Alaska, Hawaii, and Puerto Rico."
      ],
      "metadata": {
        "id": "wSFL2Z9HZQPZ"
      }
    },
    {
      "cell_type": "code",
      "source": [
        "# mount to google drive\n",
        "from google.colab import drive\n",
        "drive.mount('/content/drive')"
      ],
      "metadata": {
        "colab": {
          "base_uri": "https://localhost:8080/"
        },
        "id": "cysZJWBrvh_t",
        "outputId": "23b5eba1-8c3c-4271-eaef-c220cf215b7f"
      },
      "execution_count": 2,
      "outputs": [
        {
          "output_type": "stream",
          "name": "stdout",
          "text": [
            "Mounted at /content/drive\n"
          ]
        }
      ]
    },
    {
      "cell_type": "code",
      "source": [
        "#upload fire severity data\n",
        "! unzip /content/drive/MyDrive/mtbs_perims_DD.zip #unpacks zipped folder\n"
      ],
      "metadata": {
        "colab": {
          "base_uri": "https://localhost:8080/"
        },
        "id": "P-XJtCx0udmc",
        "outputId": "1824efb7-8b8e-419a-a2e6-f50f8fb0829c"
      },
      "execution_count": 3,
      "outputs": [
        {
          "output_type": "stream",
          "name": "stdout",
          "text": [
            "unzip:  cannot find or open /content/drive/MyDrive/mtbs_perims_DD.zip, /content/drive/MyDrive/mtbs_perims_DD.zip.zip or /content/drive/MyDrive/mtbs_perims_DD.zip.ZIP.\n"
          ]
        }
      ]
    },
    {
      "cell_type": "code",
      "source": [
        "shape = \"mtbs_perims_DD.shp\"\n",
        "df = gpd.read_file(shape) #reads in shape file"
      ],
      "metadata": {
        "id": "euZgUogywEI3",
        "outputId": "d68d62e1-c808-4e5a-ca20-a30900d3b49c",
        "colab": {
          "base_uri": "https://localhost:8080/",
          "height": 391
        }
      },
      "execution_count": 4,
      "outputs": [
        {
          "output_type": "error",
          "ename": "DataSourceError",
          "evalue": "mtbs_perims_DD.shp: No such file or directory",
          "traceback": [
            "\u001b[0;31m---------------------------------------------------------------------------\u001b[0m",
            "\u001b[0;31mDataSourceError\u001b[0m                           Traceback (most recent call last)",
            "\u001b[0;32m<ipython-input-4-a2e76a4c0529>\u001b[0m in \u001b[0;36m<cell line: 0>\u001b[0;34m()\u001b[0m\n\u001b[1;32m      1\u001b[0m \u001b[0mshape\u001b[0m \u001b[0;34m=\u001b[0m \u001b[0;34m\"mtbs_perims_DD.shp\"\u001b[0m\u001b[0;34m\u001b[0m\u001b[0;34m\u001b[0m\u001b[0m\n\u001b[0;32m----> 2\u001b[0;31m \u001b[0mdf\u001b[0m \u001b[0;34m=\u001b[0m \u001b[0mgpd\u001b[0m\u001b[0;34m.\u001b[0m\u001b[0mread_file\u001b[0m\u001b[0;34m(\u001b[0m\u001b[0mshape\u001b[0m\u001b[0;34m)\u001b[0m \u001b[0;31m#reads in shape file\u001b[0m\u001b[0;34m\u001b[0m\u001b[0;34m\u001b[0m\u001b[0m\n\u001b[0m",
            "\u001b[0;32m/usr/local/lib/python3.11/dist-packages/geopandas/io/file.py\u001b[0m in \u001b[0;36m_read_file\u001b[0;34m(filename, bbox, mask, columns, rows, engine, **kwargs)\u001b[0m\n\u001b[1;32m    292\u001b[0m \u001b[0;34m\u001b[0m\u001b[0m\n\u001b[1;32m    293\u001b[0m     \u001b[0;32mif\u001b[0m \u001b[0mengine\u001b[0m \u001b[0;34m==\u001b[0m \u001b[0;34m\"pyogrio\"\u001b[0m\u001b[0;34m:\u001b[0m\u001b[0;34m\u001b[0m\u001b[0;34m\u001b[0m\u001b[0m\n\u001b[0;32m--> 294\u001b[0;31m         return _read_file_pyogrio(\n\u001b[0m\u001b[1;32m    295\u001b[0m             \u001b[0mfilename\u001b[0m\u001b[0;34m,\u001b[0m \u001b[0mbbox\u001b[0m\u001b[0;34m=\u001b[0m\u001b[0mbbox\u001b[0m\u001b[0;34m,\u001b[0m \u001b[0mmask\u001b[0m\u001b[0;34m=\u001b[0m\u001b[0mmask\u001b[0m\u001b[0;34m,\u001b[0m \u001b[0mcolumns\u001b[0m\u001b[0;34m=\u001b[0m\u001b[0mcolumns\u001b[0m\u001b[0;34m,\u001b[0m \u001b[0mrows\u001b[0m\u001b[0;34m=\u001b[0m\u001b[0mrows\u001b[0m\u001b[0;34m,\u001b[0m \u001b[0;34m**\u001b[0m\u001b[0mkwargs\u001b[0m\u001b[0;34m\u001b[0m\u001b[0;34m\u001b[0m\u001b[0m\n\u001b[1;32m    296\u001b[0m         )\n",
            "\u001b[0;32m/usr/local/lib/python3.11/dist-packages/geopandas/io/file.py\u001b[0m in \u001b[0;36m_read_file_pyogrio\u001b[0;34m(path_or_bytes, bbox, mask, rows, **kwargs)\u001b[0m\n\u001b[1;32m    545\u001b[0m         \u001b[0mkwargs\u001b[0m\u001b[0;34m[\u001b[0m\u001b[0;34m\"columns\"\u001b[0m\u001b[0;34m]\u001b[0m \u001b[0;34m=\u001b[0m \u001b[0mkwargs\u001b[0m\u001b[0;34m.\u001b[0m\u001b[0mpop\u001b[0m\u001b[0;34m(\u001b[0m\u001b[0;34m\"include_fields\"\u001b[0m\u001b[0;34m)\u001b[0m\u001b[0;34m\u001b[0m\u001b[0;34m\u001b[0m\u001b[0m\n\u001b[1;32m    546\u001b[0m \u001b[0;34m\u001b[0m\u001b[0m\n\u001b[0;32m--> 547\u001b[0;31m     \u001b[0;32mreturn\u001b[0m \u001b[0mpyogrio\u001b[0m\u001b[0;34m.\u001b[0m\u001b[0mread_dataframe\u001b[0m\u001b[0;34m(\u001b[0m\u001b[0mpath_or_bytes\u001b[0m\u001b[0;34m,\u001b[0m \u001b[0mbbox\u001b[0m\u001b[0;34m=\u001b[0m\u001b[0mbbox\u001b[0m\u001b[0;34m,\u001b[0m \u001b[0;34m**\u001b[0m\u001b[0mkwargs\u001b[0m\u001b[0;34m)\u001b[0m\u001b[0;34m\u001b[0m\u001b[0;34m\u001b[0m\u001b[0m\n\u001b[0m\u001b[1;32m    548\u001b[0m \u001b[0;34m\u001b[0m\u001b[0m\n\u001b[1;32m    549\u001b[0m \u001b[0;34m\u001b[0m\u001b[0m\n",
            "\u001b[0;32m/usr/local/lib/python3.11/dist-packages/pyogrio/geopandas.py\u001b[0m in \u001b[0;36mread_dataframe\u001b[0;34m(path_or_buffer, layer, encoding, columns, read_geometry, force_2d, skip_features, max_features, where, bbox, mask, fids, sql, sql_dialect, fid_as_index, use_arrow, on_invalid, arrow_to_pandas_kwargs, **kwargs)\u001b[0m\n\u001b[1;32m    263\u001b[0m         \u001b[0;31m# as numpy does not directly support timezones.\u001b[0m\u001b[0;34m\u001b[0m\u001b[0;34m\u001b[0m\u001b[0m\n\u001b[1;32m    264\u001b[0m         \u001b[0mkwargs\u001b[0m\u001b[0;34m[\u001b[0m\u001b[0;34m\"datetime_as_string\"\u001b[0m\u001b[0;34m]\u001b[0m \u001b[0;34m=\u001b[0m \u001b[0;32mTrue\u001b[0m\u001b[0;34m\u001b[0m\u001b[0;34m\u001b[0m\u001b[0m\n\u001b[0;32m--> 265\u001b[0;31m     result = read_func(\n\u001b[0m\u001b[1;32m    266\u001b[0m         \u001b[0mpath_or_buffer\u001b[0m\u001b[0;34m,\u001b[0m\u001b[0;34m\u001b[0m\u001b[0;34m\u001b[0m\u001b[0m\n\u001b[1;32m    267\u001b[0m         \u001b[0mlayer\u001b[0m\u001b[0;34m=\u001b[0m\u001b[0mlayer\u001b[0m\u001b[0;34m,\u001b[0m\u001b[0;34m\u001b[0m\u001b[0;34m\u001b[0m\u001b[0m\n",
            "\u001b[0;32m/usr/local/lib/python3.11/dist-packages/pyogrio/raw.py\u001b[0m in \u001b[0;36mread\u001b[0;34m(path_or_buffer, layer, encoding, columns, read_geometry, force_2d, skip_features, max_features, where, bbox, mask, fids, sql, sql_dialect, return_fids, datetime_as_string, **kwargs)\u001b[0m\n\u001b[1;32m    196\u001b[0m     \u001b[0mdataset_kwargs\u001b[0m \u001b[0;34m=\u001b[0m \u001b[0m_preprocess_options_key_value\u001b[0m\u001b[0;34m(\u001b[0m\u001b[0mkwargs\u001b[0m\u001b[0;34m)\u001b[0m \u001b[0;32mif\u001b[0m \u001b[0mkwargs\u001b[0m \u001b[0;32melse\u001b[0m \u001b[0;34m{\u001b[0m\u001b[0;34m}\u001b[0m\u001b[0;34m\u001b[0m\u001b[0;34m\u001b[0m\u001b[0m\n\u001b[1;32m    197\u001b[0m \u001b[0;34m\u001b[0m\u001b[0m\n\u001b[0;32m--> 198\u001b[0;31m     return ogr_read(\n\u001b[0m\u001b[1;32m    199\u001b[0m         \u001b[0mget_vsi_path_or_buffer\u001b[0m\u001b[0;34m(\u001b[0m\u001b[0mpath_or_buffer\u001b[0m\u001b[0;34m)\u001b[0m\u001b[0;34m,\u001b[0m\u001b[0;34m\u001b[0m\u001b[0;34m\u001b[0m\u001b[0m\n\u001b[1;32m    200\u001b[0m         \u001b[0mlayer\u001b[0m\u001b[0;34m=\u001b[0m\u001b[0mlayer\u001b[0m\u001b[0;34m,\u001b[0m\u001b[0;34m\u001b[0m\u001b[0;34m\u001b[0m\u001b[0m\n",
            "\u001b[0;32mpyogrio/_io.pyx\u001b[0m in \u001b[0;36mpyogrio._io.ogr_read\u001b[0;34m()\u001b[0m\n",
            "\u001b[0;32mpyogrio/_io.pyx\u001b[0m in \u001b[0;36mpyogrio._io.ogr_open\u001b[0;34m()\u001b[0m\n",
            "\u001b[0;31mDataSourceError\u001b[0m: mtbs_perims_DD.shp: No such file or directory"
          ]
        }
      ]
    },
    {
      "cell_type": "markdown",
      "source": [
        "#Orienting and Data Cleaning"
      ],
      "metadata": {
        "id": "Dz7Deh9tadJh"
      }
    },
    {
      "cell_type": "code",
      "source": [
        "df.info()"
      ],
      "metadata": {
        "id": "igXKOwlNwL0B"
      },
      "execution_count": null,
      "outputs": []
    },
    {
      "cell_type": "code",
      "source": [
        "df.head()"
      ],
      "metadata": {
        "id": "jDcIluFS_igs"
      },
      "execution_count": null,
      "outputs": []
    },
    {
      "cell_type": "code",
      "source": [
        "#create state column from event ID\n",
        "df['State'] = df['Event_ID'].str[:2]\n",
        "df['State'].unique()"
      ],
      "metadata": {
        "id": "9yOw2rIFAa7e"
      },
      "execution_count": null,
      "outputs": []
    },
    {
      "cell_type": "code",
      "source": [
        "df_state = df.pop('State')\n",
        "df.insert(0,'State',df_state)\n",
        "df.head()"
      ],
      "metadata": {
        "id": "Bd2CQFN5CWkP"
      },
      "execution_count": null,
      "outputs": []
    },
    {
      "cell_type": "code",
      "source": [
        "df['Incid_Type'].unique()"
      ],
      "metadata": {
        "id": "IpT8whkAHSwd"
      },
      "execution_count": null,
      "outputs": []
    },
    {
      "cell_type": "code",
      "source": [
        "# filter out columns\n",
        "df_columns = df.drop(columns=['Event_ID', 'irwinID', 'Map_ID', 'Map_Prog', 'Asmnt_Type', 'Pre_ID', 'Post_ID', 'Perim_ID', 'Comment', 'dNBR_stdDv'])\n",
        "df_columns.head()"
      ],
      "metadata": {
        "id": "rZY9haHGv-zF"
      },
      "execution_count": null,
      "outputs": []
    },
    {
      "cell_type": "code",
      "source": [
        "#check for missing/null values\n",
        "df_columns['NoData_T'].unique()\n"
      ],
      "metadata": {
        "id": "nzn3Vkzmw1w9"
      },
      "execution_count": null,
      "outputs": []
    },
    {
      "cell_type": "code",
      "source": [
        "# df_columns['NoData_T'].value_counts()"
      ],
      "metadata": {
        "id": "rskgQXuLkjNO"
      },
      "execution_count": null,
      "outputs": []
    },
    {
      "cell_type": "markdown",
      "source": [
        "#Wildfire Dynamics over Time\n",
        "\n",
        "We want to investigate how fire size, severity, and frequency change over time."
      ],
      "metadata": {
        "id": "4ADWPjJpmsMM"
      }
    },
    {
      "cell_type": "code",
      "source": [
        "# filter for wildfires\n",
        "df_wildfires = df_columns[df_columns['Incid_Type'] == 'Wildfire']"
      ],
      "metadata": {
        "id": "mFcG7fT7nEhF"
      },
      "execution_count": null,
      "outputs": []
    },
    {
      "cell_type": "code",
      "source": [
        "# bucket by year\n",
        "df_wildfires['Ig_Date'] = pd.to_datetime(df_wildfires['Ig_Date'])\n",
        "df_wildfires['Year'] = df_wildfires['Ig_Date'].dt.year\n",
        "df_wildfires_years = df_wildfires.pivot_table(index = 'Year', values = 'Incid_Type', aggfunc = 'count')\n",
        "df_wildfires_years = df_wildfires_years.rename(columns = {'Incid_Type': 'Wildfires'})\n",
        "df_wildfires_years = df_wildfires_years.reset_index()\n",
        "df_wildfires_years.head()"
      ],
      "metadata": {
        "id": "JWy8mADXpXPK"
      },
      "execution_count": null,
      "outputs": []
    },
    {
      "cell_type": "markdown",
      "source": [
        "Wildfire Frequency over Time"
      ],
      "metadata": {
        "id": "R1CRHClItHSN"
      }
    },
    {
      "cell_type": "code",
      "source": [
        "# fire frequency over time\n",
        "(\n",
        "    ggplot(df_wildfires_years, aes(x = 'Year', y='Incid_Type'))\n",
        "       + geom_bar(stat = 'identity', fill = 'blue')\n",
        "       + geom_smooth(method='lm')\n",
        "       + xlab(\"Year\")\n",
        "       + ylab(\"Wildfire Occurrences\")\n",
        "       + ggtitle(\"Wildfire Frequency Over Time\")\n",
        "       + scale_x_continuous(breaks = [1984, 1990, 1995, 2000, 2005, 2010, 2015, 2020, 2024])\n",
        "       + theme_classic()\n",
        "\n",
        ")"
      ],
      "metadata": {
        "id": "3DNCWJHpnhsa"
      },
      "execution_count": null,
      "outputs": []
    },
    {
      "cell_type": "code",
      "source": [
        "# year of highest fire frequency\n",
        "df_wildfires_years.sort_values(by = 'Incid_Type', ascending = False).head(1)"
      ],
      "metadata": {
        "id": "IiQybErLx_KS"
      },
      "execution_count": null,
      "outputs": []
    },
    {
      "cell_type": "markdown",
      "source": [
        "The graph shows that the frequency of fires has trended upward over time, with a peak in 2011."
      ],
      "metadata": {
        "id": "IjLcuU_KyHM0"
      }
    },
    {
      "cell_type": "markdown",
      "source": [
        "Wildfire Size over Time"
      ],
      "metadata": {
        "id": "yuUnaMMAtEHg"
      }
    },
    {
      "cell_type": "code",
      "source": [
        "# aggregate burned acres per year\n",
        "df_wildfires_acres = df_wildfires.pivot_table(index = 'Year', values = 'BurnBndAc', aggfunc = 'sum')\n",
        "df_wildfires_acres['BurnBndAc'] = df_wildfires_acres['BurnBndAc'].astype(int)\n",
        "df_wildfires_acres['BurnBndAc'] = df_wildfires_acres['BurnBndAc'] / 1000000\n",
        "df_wildfires_acres = df_wildfires_acres.reset_index()\n",
        "df_wildfires_acres.head()"
      ],
      "metadata": {
        "id": "6KoeNs7YumaM"
      },
      "execution_count": null,
      "outputs": []
    },
    {
      "cell_type": "code",
      "source": [
        "# fire size over time\n",
        "(\n",
        "    ggplot(df_wildfires_acres, aes(x = 'Year', y='BurnBndAc'))\n",
        "       + geom_bar(stat = 'identity', fill = 'red')\n",
        "       + geom_smooth(method='lm')\n",
        "       + xlab(\"Year\")\n",
        "       + ylab(\"Burned Area (Millions of Acres)\")\n",
        "       + ggtitle(\"Wildfire Size Over Time\")\n",
        "       + scale_x_continuous(breaks = [1984, 1990, 1995, 2000, 2005, 2010, 2015, 2020, 2024])\n",
        "       + scale_y_continuous()\n",
        "       + theme_classic()\n",
        ")"
      ],
      "metadata": {
        "id": "5Q5VdHGXtDb2"
      },
      "execution_count": null,
      "outputs": []
    },
    {
      "cell_type": "code",
      "source": [
        "# check year of worst fires by acres burned\n",
        "df_wildfires_acres.sort_values(by = 'BurnBndAc', ascending = False).head(1)"
      ],
      "metadata": {
        "id": "XUDsbrnkxpN4"
      },
      "execution_count": null,
      "outputs": []
    },
    {
      "cell_type": "markdown",
      "source": [
        "As the graph shows, the acres burned by wildfires has increased over time, with 2020 as the worst year for land affected by wildfires.  "
      ],
      "metadata": {
        "id": "YEGk1-Izxl8K"
      }
    },
    {
      "cell_type": "markdown",
      "source": [
        "# Wildfire Severity over Time\n",
        "\n",
        "We measure wildfire severity by dNBR."
      ],
      "metadata": {
        "id": "7YqKO-d9n0ry"
      }
    },
    {
      "cell_type": "code",
      "source": [
        "#check dNBR details\n",
        "df_wildfires['dNBR_offst'].describe()"
      ],
      "metadata": {
        "id": "GKsv7XPkoXEC"
      },
      "execution_count": null,
      "outputs": []
    },
    {
      "cell_type": "code",
      "source": [
        "# aggregate dNBR per year\n",
        "df_wildfires_dNBR = df_wildfires.pivot_table(index = 'Year', values = 'dNBR_offst', aggfunc = 'mean')\n",
        "df_wildfires_dNBR = df_wildfires_dNBR.reset_index()\n",
        "df_wildfires_dNBR.head()"
      ],
      "metadata": {
        "id": "farC4P5Nn0Xy"
      },
      "execution_count": null,
      "outputs": []
    },
    {
      "cell_type": "code",
      "source": [
        "# dNBR over time\n",
        "(\n",
        "    ggplot(df_wildfires_dNBR, aes(x = 'Year', y='dNBR_offst'))\n",
        "    + geom_bar(stat = 'identity', fill = 'green')\n",
        "    + geom_smooth(method='lm')\n",
        "    + theme_classic()\n",
        "    + xlab(\"Year\")\n",
        "    + ylab(\"dNBR\")\n",
        "    + ggtitle(\"Wildfire Severity Over Time\")\n",
        "    + scale_x_continuous(breaks = [1984, 1990, 1995, 2000, 2005, 2010, 2015, 2020, 2024])\n",
        ")"
      ],
      "metadata": {
        "id": "jOyt5CEAoJJd"
      },
      "execution_count": null,
      "outputs": []
    },
    {
      "cell_type": "markdown",
      "source": [
        "#Prescribed Burns vs Wildfires over Time\n",
        "\n",
        "How does the occurrence of prescribed burns relate to wildfires?"
      ],
      "metadata": {
        "id": "5DIlNFr9zLe8"
      }
    },
    {
      "cell_type": "code",
      "source": [
        "df_columns['Incid_Type'].unique()"
      ],
      "metadata": {
        "id": "XUDId8Hxzt4p"
      },
      "execution_count": null,
      "outputs": []
    },
    {
      "cell_type": "code",
      "source": [
        "# filter for prescribed burns\n",
        "df_prescribed = df_columns[df_columns['Incid_Type'] == 'Prescribed Fire']\n",
        "df_prescribed.head()"
      ],
      "metadata": {
        "id": "OOGz7HNhzZkx"
      },
      "execution_count": null,
      "outputs": []
    },
    {
      "cell_type": "code",
      "source": [
        "# prescribed fires by year\n",
        "\n",
        "df_prescribed['Ig_Date'] = pd.to_datetime(df_prescribed['Ig_Date'])\n",
        "df_prescribed['Year'] = df_prescribed['Ig_Date'].dt.year\n",
        "df_prescribed_years = df_prescribed.pivot_table(index = 'Year', values = 'Incid_Type', aggfunc = 'count')\n",
        "df_prescribed_years = df_prescribed_years.rename(columns = {'Incid_Type': 'Prescribed Fires'})\n",
        "df_prescribed_years = df_prescribed_years.reset_index()\n",
        "df_prescribed_years.head()\n"
      ],
      "metadata": {
        "id": "rnSHMqoAz6-0"
      },
      "execution_count": null,
      "outputs": []
    },
    {
      "cell_type": "code",
      "source": [
        "# prescribed fire count over time\n",
        "(\n",
        "    ggplot(df_prescribed_years, aes(x = 'Year', y='Incid_Type'))\n",
        "       + geom_bar(stat = 'identity', fill = 'orange')\n",
        "       + geom_smooth(method='lm')\n",
        "       + xlab(\"Year\")\n",
        "       + ylab(\"Prescribed Fire Occurrences\")\n",
        "       + ggtitle(\"Prescribed Fire Frequency Over Time\")\n",
        "       + scale_x_continuous(breaks = [1984, 1990, 1995, 2000, 2005, 2010, 2015, 2020, 2024])\n",
        "       + theme_classic()\n",
        ")"
      ],
      "metadata": {
        "id": "ad6i9Kmg0HIe"
      },
      "execution_count": null,
      "outputs": []
    },
    {
      "cell_type": "markdown",
      "source": [
        "Now we want to look at how prescribed and wildfire trends relate over time."
      ],
      "metadata": {
        "id": "c1cWKWmQaK0h"
      }
    },
    {
      "cell_type": "code",
      "source": [
        "#merge frequency dataframes\n",
        "df_freq_merged = pd.merge(df_wildfires_years, df_prescribed_years, on = 'Year')\n",
        "df_freq_merged.head()"
      ],
      "metadata": {
        "id": "gBLWAhwAaP4U"
      },
      "execution_count": null,
      "outputs": []
    },
    {
      "cell_type": "code",
      "source": [
        "# melt frequency\n",
        "df_freq_melted = pd.melt(df_freq_merged, id_vars=['Year'], value_vars=['Wildfires', 'Prescribed Fires'], var_name='series', value_name='value')\n",
        "df_freq_melted.head()"
      ],
      "metadata": {
        "id": "pC9pldjumIVZ"
      },
      "execution_count": null,
      "outputs": []
    },
    {
      "cell_type": "code",
      "source": [
        "# graph stacked bar chart of prescribed vs wildfires over time\n",
        "(\n",
        "    ggplot(df_freq_melted, aes(x = 'Year', y = 'value', fill = 'series'))\n",
        "    + geom_bar(stat = 'identity')\n",
        "    + xlab(\"Year\")\n",
        "    + ylab(\"Fire Occurrences\")\n",
        "    + labs(fill = 'Fire Type')\n",
        "    + ggtitle(\"Prescribed Fire vs Wildfire Frequency Over Time\")\n",
        "    + scale_x_continuous(breaks = [1984, 1990, 1995, 2000, 2005, 2010, 2015, 2020, 2024])\n",
        "    + theme_classic()\n",
        ")\n"
      ],
      "metadata": {
        "id": "3u1GFkNJmL40"
      },
      "execution_count": null,
      "outputs": []
    },
    {
      "cell_type": "code",
      "source": [
        "# line graph of prescribed vs wildfire frequency over time\n",
        "(\n",
        "    ggplot(df_freq_melted, aes(x = 'Year', y = 'value', color = 'series'))\n",
        "    + geom_line()\n",
        "    + xlab(\"Year\")\n",
        "    + ylab(\"Fire Occurrences\")\n",
        "    + labs(color = 'Fire Type')\n",
        "    + ggtitle(\"Prescribed Fire vs Wildfire Frequency Over Time\")\n",
        "    + scale_x_continuous(breaks = [1984, 1990, 1995, 2000, 2005, 2010, 2015, 2020, 2024])\n",
        "    + theme_classic()\n",
        ")"
      ],
      "metadata": {
        "id": "ZQI70_fxpFty"
      },
      "execution_count": null,
      "outputs": []
    },
    {
      "cell_type": "code",
      "source": [
        "# prescribed fires burn area\n",
        "df_prescribed_acres = df_prescribed.pivot_table(index = 'Year', values = 'BurnBndAc', aggfunc = 'sum')\n",
        "df_prescribed_acres['BurnBndAc'] = df_prescribed_acres['BurnBndAc'] / 1000000\n",
        "df_prescribed_acres = df_prescribed_acres.reset_index()\n",
        "df_prescribed_acres.head()"
      ],
      "metadata": {
        "id": "8K8lqYg60C32"
      },
      "execution_count": null,
      "outputs": []
    },
    {
      "cell_type": "code",
      "source": [
        "# prescribed fires acres burned over time\n",
        "(\n",
        "    ggplot(df_prescribed_acres, aes(x = 'Year', y='BurnBndAc'))\n",
        "    + geom_bar(stat = 'identity', fill = 'orange')\n",
        "    + geom_smooth(method='lm')\n",
        "    + xlab(\"Year\")\n",
        "    + ylab(\"Burned Area (Millions of Acres)\")\n",
        "    + ggtitle(\"Prescribed Fire Size Over Time\")\n",
        "    + scale_x_continuous(breaks = [1984, 1990, 1995, 2000, 2005, 2010, 2015, 2020, 2024])\n",
        "    + scale_y_continuous()\n",
        "    + theme_classic()\n",
        ")"
      ],
      "metadata": {
        "id": "1gjcSACz0zfm"
      },
      "execution_count": null,
      "outputs": []
    },
    {
      "cell_type": "code",
      "source": [
        "# merge acres\n",
        "df_acres_merged = pd.merge(df_wildfires_acres, df_prescribed_acres, on = 'Year')\n",
        "df_acres_merged = df_acres_merged.rename(columns = {'BurnBndAc_x': 'Wildfires', 'BurnBndAc_y': 'Prescribed Fires'})\n",
        "df_acres_merged.head()"
      ],
      "metadata": {
        "id": "nKitv0rCnn0S"
      },
      "execution_count": null,
      "outputs": []
    },
    {
      "cell_type": "code",
      "source": [
        "# melt acres\n",
        "df_acres_melted = pd.melt(df_acres_merged, id_vars=['Year'], value_vars=['Wildfires', 'Prescribed Fires'], var_name='series', value_name='value')\n",
        "df_acres_melted.head()"
      ],
      "metadata": {
        "id": "JT9wSn9qnxpZ"
      },
      "execution_count": null,
      "outputs": []
    },
    {
      "cell_type": "code",
      "source": [
        "# prescribed acres burned vs wildfire acres burned over time\n",
        "(\n",
        "    ggplot(df_acres_melted, aes(x = 'Year', y = 'value', fill = 'series'))\n",
        "    + geom_bar(stat = 'identity')\n",
        "    + xlab(\"Year\")\n",
        "    + ylab(\"Area Burned (Millions of Acres)\")\n",
        "    + labs(fill = 'Fire Type')\n",
        "    + ggtitle(\"Prescribed Fire vs Wildfire Size Over Time\")\n",
        "    + scale_x_continuous(breaks = [1984, 1990, 1995, 2000, 2005, 2010, 2015, 2020, 2024])\n",
        "    + theme_classic()\n",
        ")\n"
      ],
      "metadata": {
        "id": "-u8Y43i016Fp"
      },
      "execution_count": null,
      "outputs": []
    },
    {
      "cell_type": "markdown",
      "source": [
        "### State Analysis\n",
        "We will take a deeper look into the three states that had the most fires during the study period: CA, FL, [___]."
      ],
      "metadata": {
        "id": "6Y8HuQPgGtgM"
      }
    },
    {
      "cell_type": "markdown",
      "source": [
        "California"
      ],
      "metadata": {
        "id": "nFeOKYBvG5V_"
      }
    },
    {
      "cell_type": "code",
      "source": [
        "#load in state boundary data\n",
        "! unzip /content/drive/MyDrive/cb_2018_us_state_500k.zip #unpacks zipped folder"
      ],
      "metadata": {
        "id": "vcqDkUd-G7qs"
      },
      "execution_count": null,
      "outputs": []
    },
    {
      "cell_type": "code",
      "source": [
        "shp = \"cb_2018_us_state_500k.shp\"\n",
        "df_states = gpd.read_file(shp) #reads in shape file\n",
        "df_states.head()"
      ],
      "metadata": {
        "id": "mpMqM2q6G--4"
      },
      "execution_count": null,
      "outputs": []
    },
    {
      "cell_type": "code",
      "source": [
        "#call california boundary\n",
        "california = df_states[df_states['NAME'] == 'California']"
      ],
      "metadata": {
        "id": "jgWunsy9HDLM"
      },
      "execution_count": null,
      "outputs": []
    },
    {
      "cell_type": "code",
      "source": [
        "#Zoom in on California\n",
        "CA_df = df[df['State'] == 'CA']\n",
        "\n",
        "CA_df.head()"
      ],
      "metadata": {
        "id": "AmbGArXBHD-Q"
      },
      "execution_count": null,
      "outputs": []
    },
    {
      "cell_type": "code",
      "source": [
        "#Zoom in on California\n",
        "CA_df = df[df['State'] == 'CA']\n",
        "\n",
        "CA_df.head()"
      ],
      "metadata": {
        "id": "6T0vuk2wHKZL"
      },
      "execution_count": null,
      "outputs": []
    },
    {
      "cell_type": "code",
      "source": [
        "#plot all CA fires according to severity\n",
        "(ggplot()\n",
        "  + geom_map(california, fill= 'whitesmoke', color = 'grey')\n",
        "  + geom_map(CA_df, aes(geometry = 'geometry', fill = 'dNBR_offst'), color = 'grey')\n",
        "  + scale_fill_gradientn(colors = [\"#beedcd\", \"#ed550e\"],limits = [0, 200])\n",
        "  + labs(fill='dNBR_offst')\n",
        "  + theme_classic()\n",
        "  + theme(axis_line=element_line(color=\"white\"),\n",
        "          axis_ticks=element_line(color = \"white\"),\n",
        "          axis_text=element_line(color='white'),\n",
        "          text=element_text(size = 12))\n",
        "  # + xlab(\"\")\n",
        "  # + ylab(\"\")\n",
        " )"
      ],
      "metadata": {
        "id": "OioIhVQMHNAG"
      },
      "execution_count": null,
      "outputs": []
    },
    {
      "cell_type": "code",
      "source": [
        "#Define animation constants\n",
        "OUTPUT_DIR = \"frames\" #create directory to hold frames\n",
        "CA_GIF = \"map_animation.gif\" #create final output file\n",
        "FIG_WIDTH = 10 #set standard size for each animation frame\n",
        "FIG_HEIGHT = 8 #set standard size for each animation frame\n",
        "DPI = 100 #set standard resolution\n",
        "FPS = 1 #set frames per second"
      ],
      "metadata": {
        "id": "7deecuU0HN1t"
      },
      "execution_count": null,
      "outputs": []
    },
    {
      "cell_type": "code",
      "source": [
        "#define years for animation\n",
        "years = sorted(CA_df['Year'].unique())"
      ],
      "metadata": {
        "id": "8SGbr71lHQZb"
      },
      "execution_count": null,
      "outputs": []
    },
    {
      "cell_type": "code",
      "source": [
        "#create CA frame boundary\n",
        "min_x, min_y, max_x, max_y = california.total_bounds\n",
        "\n",
        "#create 5% buffer around frame\n",
        "buffer_x = (max_x - min_x) * 0.05\n",
        "buffer_y = (max_y - min_y) * 0.05\n",
        "\n",
        "#extend CA frame boundary using buffer\n",
        "min_x -= buffer_x\n",
        "min_y -= buffer_y\n",
        "max_x += buffer_x\n",
        "max_y += buffer_y"
      ],
      "metadata": {
        "id": "z3Rd487hHSZ_"
      },
      "execution_count": null,
      "outputs": []
    },
    {
      "cell_type": "code",
      "source": [
        "#create a png for each year\n",
        "\n",
        "frame_paths = [] #create empty frames to fill\n",
        "\n",
        "if not os.path.exists(OUTPUT_DIR):\n",
        "    os.makedirs(OUTPUT_DIR)\n",
        "\n",
        "for year in years: #create frame for individual year\n",
        "    # Create filename\n",
        "    frame_path = os.path.join(OUTPUT_DIR, f\"frame_{year}.png\")\n",
        "    frame_paths.append(frame_path)\n",
        "\n",
        "    # Generate plot for year\n",
        "    fig, ax = plt.subplots(figsize=(FIG_WIDTH, FIG_HEIGHT))\n",
        "    year_df = CA_df[CA_df['Year'] == year]\n",
        "\n",
        "    # Add california\n",
        "    california.boundary.plot(ax=ax, color='black', linewidth=1) #plot boundary\n",
        "    california.plot(ax=ax, color='lightgray', alpha=0.5)  # Fill with light gray\n",
        "\n",
        "    # Then plot the data if there is any for this year\n",
        "    if not year_df.empty:\n",
        "        year_df.plot(column='dNBR_offst', ax=ax,\n",
        "                    cmap=plt.cm.RdYlGn_r,\n",
        "                    vmin=0, vmax=200,\n",
        "                    edgecolor='grey',\n",
        "                    legend=True)\n",
        "\n",
        "    ax.set_xlim(min_x, max_x) #set defined axis limits with buffer\n",
        "    ax.set_ylim(min_y, max_y) #set defined axis limits with buffer\n",
        "\n",
        "    ax.set_title(f'Year: {year}', fontsize=14)      # Set dynamic title\n",
        "    ax.axis('off')                                  # Remove axes\n",
        "    plt.tight_layout()\n",
        "\n",
        "    # Save to file\n",
        "    plt.savefig(frame_path, dpi=DPI)\n",
        "    plt.close(fig)"
      ],
      "metadata": {
        "id": "X2qO_GaHHUf2"
      },
      "execution_count": null,
      "outputs": []
    },
    {
      "cell_type": "code",
      "source": [
        "#combine yearly pngs into gif using imageio\n",
        "\n",
        "images = []\n",
        "for path in frame_paths:\n",
        "    images.append(imageio.imread(path))\n",
        "\n",
        "imageio.mimsave(CA_GIF, images, fps=FPS) #fill CA_GIF with set of images\n",
        "\n",
        "display(Image(filename=CA_GIF))"
      ],
      "metadata": {
        "id": "MOqLPy8pHWrY"
      },
      "execution_count": null,
      "outputs": []
    },
    {
      "cell_type": "code",
      "source": [],
      "metadata": {
        "id": "xMW5GZvxHZEf"
      },
      "execution_count": null,
      "outputs": []
    },
    {
      "cell_type": "markdown",
      "source": [
        "#Upload State County Polygons"
      ],
      "metadata": {
        "id": "W0-IAQ1ZarPY"
      }
    },
    {
      "cell_type": "code",
      "source": [
        "#load in state boundary data\n",
        "! unzip /content/drive/MyDrive/cb_2018_us_county_500k.zip #unpacks zipped folder"
      ],
      "metadata": {
        "id": "5PL1npBmI6Pq"
      },
      "execution_count": null,
      "outputs": []
    },
    {
      "cell_type": "code",
      "source": [
        "shp = \"cb_2018_us_county_500k.shp\"\n",
        "df_counties = gpd.read_file(shp) #reads in shape file\n",
        "df_counties.head()"
      ],
      "metadata": {
        "id": "omNVMDmhJunS"
      },
      "execution_count": null,
      "outputs": []
    },
    {
      "cell_type": "code",
      "source": [
        "#plot spatial data\n",
        "\n",
        "(ggplot()\n",
        "  + geom_map(df_counties, aes(geometry = 'geometry', fill='STATEFP'), show_legend = False)\n",
        "  + labs(fill='STATEFP')\n",
        "  + xlim(-5e6,3e6)\n",
        "  + ylim(-2.5e6, 4e6)\n",
        "  + theme_classic()\n",
        "  + theme(axis_line=element_line(color=\"white\"),\n",
        "          axis_ticks=element_line(color = \"white\"),\n",
        "          axis_text=element_line(color='white'),\n",
        "          text=element_text(size = 12))\n",
        "  # + xlab(\"\")\n",
        "  # + ylab(\"\")\n",
        " )"
      ],
      "metadata": {
        "id": "lVLZKCTUJ_BZ"
      },
      "execution_count": null,
      "outputs": []
    },
    {
      "cell_type": "markdown",
      "source": [
        "#Initial Zoom in on State Data"
      ],
      "metadata": {
        "id": "zksx4H4xa0PB"
      }
    },
    {
      "cell_type": "code",
      "source": [
        "CA_df = df[df['State'] == 'CA']\n",
        "\n",
        "CA_df.head()"
      ],
      "metadata": {
        "id": "oWCB3jr-M0Pb"
      },
      "execution_count": null,
      "outputs": []
    },
    {
      "cell_type": "code",
      "source": [
        "CA_df[\"dNBR_offst\"].max()"
      ],
      "metadata": {
        "id": "dr359Kw8OSZe"
      },
      "execution_count": null,
      "outputs": []
    },
    {
      "cell_type": "code",
      "source": [
        "#plot spatial data\n",
        "\n",
        "(ggplot()\n",
        "  + geom_map(CA_df, aes(geometry = 'geometry', fill = 'dNBR_offst'), color = 'grey')\n",
        "  + scale_fill_gradientn(colors = [\"#beedcd\", \"#ed550e\"],limits = [0, 200])\n",
        "  + labs(fill='dNBR_offst')\n",
        "  + theme_classic()\n",
        "  + theme(axis_line=element_line(color=\"white\"),\n",
        "          axis_ticks=element_line(color = \"white\"),\n",
        "          axis_text=element_line(color='white'),\n",
        "          text=element_text(size = 12))\n",
        "  # + xlab(\"\")\n",
        "  # + ylab(\"\")\n",
        " )"
      ],
      "metadata": {
        "id": "HwvfqbowNddK"
      },
      "execution_count": null,
      "outputs": []
    },
    {
      "cell_type": "code",
      "source": [
        "#plot spatial data\n",
        "\n",
        "(ggplot()\n",
        "  + geom_map(df, aes(geometry = 'geometry', fill='High_T'))\n",
        "  + labs(fill='High_T')\n",
        "  + theme_classic()\n",
        "  + theme(axis_line=element_line(color=\"white\"),\n",
        "          axis_ticks=element_line(color = \"white\"),\n",
        "          axis_text=element_line(color='white'),\n",
        "          text=element_text(size = 12))\n",
        "  # + xlab(\"\")\n",
        "  # + ylab(\"\")\n",
        " )"
      ],
      "metadata": {
        "id": "8WdNM8OMFNkq"
      },
      "execution_count": null,
      "outputs": []
    }
  ]
}